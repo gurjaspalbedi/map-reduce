{
 "cells": [
  {
   "cell_type": "code",
   "execution_count": 1,
   "metadata": {},
   "outputs": [],
   "source": [
    "t = [('a', 1), ('a', 1), ('b',1),('z',1), ('a',1), ('c', 1)]"
   ]
  },
  {
   "cell_type": "code",
   "execution_count": 9,
   "metadata": {},
   "outputs": [],
   "source": [
    "def filter_by_keys(tup, key_sequence):\n",
    "    def my_filter(tup):\n",
    "    \n",
    "        if tup[0] in key_sequence:\n",
    "            return True\n",
    "        else:\n",
    "            return False\n",
    "    return my_filter"
   ]
  },
  {
   "cell_type": "code",
   "execution_count": 17,
   "metadata": {},
   "outputs": [],
   "source": [
    "func = filter_by_keys(t, ['z'])"
   ]
  },
  {
   "cell_type": "code",
   "execution_count": 18,
   "metadata": {},
   "outputs": [
    {
     "data": {
      "text/plain": [
       "[('z', 1)]"
      ]
     },
     "execution_count": 18,
     "metadata": {},
     "output_type": "execute_result"
    }
   ],
   "source": [
    "list(filter(func, t))"
   ]
  },
  {
   "cell_type": "code",
   "execution_count": 95,
   "metadata": {},
   "outputs": [],
   "source": [
    "TASK_WORD_COUNT = 'word_count'\n",
    "TASK_INVERTED_INDEX = 'inverted_index'\n",
    "def create_mapper_data(path, task = TASK_WORD_COUNT):\n",
    "    \n",
    "    if not os.path.isfile(path) and task == TASK_WORD_COUNT:\n",
    "        print('The provided path is not a file', 'critical')\n",
    "        return -1\n",
    "    elif not os.path.isdir(path) and task == TASK_INVERTED_INDEX:\n",
    "        print('The provided path is not a directory', 'critical')\n",
    "        return -1\n",
    "    else:\n",
    "        tasks = []\n",
    "        files = [path] if task == TASK_WORD_COUNT else [ f'{path}/{file_name}' for file_name in os.listdir(path)]\n",
    "        task_count = 0\n",
    "        for file in files:\n",
    "            with open(file, 'r') as f:\n",
    "                not_done = True\n",
    "                while not_done:\n",
    "                    line = f.readlines(3)\n",
    "                    if len(line) > 0:\n",
    "                       \n",
    "                        with open(f'{mapper_tasks_path}task{task_count}', 'wb') as task_file:\n",
    "                            pickle.dump(line, task_file)\n",
    "                        task_count +=1\n",
    "                    else:\n",
    "                        not_done = False\n",
    "        \n",
    "        return task_count"
   ]
  },
  {
   "cell_type": "code",
   "execution_count": 96,
   "metadata": {},
   "outputs": [
    {
     "name": "stdout",
     "output_type": "stream",
     "text": [
      "['dummy/dummy.txt', 'dummy/dummy2.txt']\n",
      "dump ('dummy/dummy.txt', ['this this\\n'])\n",
      "dump ('dummy/dummy.txt', ['hello hello\\n'])\n",
      "dump ('dummy/dummy.txt', ['good good\\n'])\n",
      "dump ('dummy/dummy.txt', ['this this this\\n'])\n",
      "dump ('dummy/dummy.txt', ['what is this\\n'])\n",
      "dump ('dummy/dummy.txt', ['this is this\\n'])\n",
      "dump ('dummy/dummy.txt', ['this is this'])\n",
      "dump ('dummy/dummy2.txt', ['cool cool\\n'])\n",
      "dump ('dummy/dummy2.txt', ['cool cool\\n'])\n",
      "dump ('dummy/dummy2.txt', ['cool cool\\n'])\n",
      "dump ('dummy/dummy2.txt', ['cool cool\\n'])\n",
      "dump ('dummy/dummy2.txt', ['cool cool\\n'])\n",
      "dump ('dummy/dummy2.txt', ['cool cool\\n'])\n",
      "dump ('dummy/dummy2.txt', ['cool cool\\n'])\n",
      "dump ('dummy/dummy2.txt', ['cool cool\\n'])\n"
     ]
    },
    {
     "data": {
      "text/plain": [
       "[]"
      ]
     },
     "execution_count": 96,
     "metadata": {},
     "output_type": "execute_result"
    }
   ],
   "source": [
    "create_mapper_data(\"dummy\", 'inverted_index')"
   ]
  },
  {
   "cell_type": "code",
   "execution_count": null,
   "metadata": {},
   "outputs": [],
   "source": []
  }
 ],
 "metadata": {
  "kernelspec": {
   "display_name": "Python 3",
   "language": "python",
   "name": "python3"
  },
  "language_info": {
   "codemirror_mode": {
    "name": "ipython",
    "version": 3
   },
   "file_extension": ".py",
   "mimetype": "text/x-python",
   "name": "python",
   "nbconvert_exporter": "python",
   "pygments_lexer": "ipython3",
   "version": "3.6.7"
  }
 },
 "nbformat": 4,
 "nbformat_minor": 2
}
