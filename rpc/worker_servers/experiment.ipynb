{
 "cells": [
  {
   "cell_type": "code",
   "execution_count": 1,
   "metadata": {},
   "outputs": [],
   "source": [
    "t = [('a', 1), ('a', 1), ('b',1),('z',1), ('a',1), ('c', 1)]"
   ]
  },
  {
   "cell_type": "code",
   "execution_count": 9,
   "metadata": {},
   "outputs": [],
   "source": [
    "def filter_by_keys(tup, key_sequence):\n",
    "    def my_filter(tup):\n",
    "    \n",
    "        if tup[0] in key_sequence:\n",
    "            return True\n",
    "        else:\n",
    "            return False\n",
    "    return my_filter"
   ]
  },
  {
   "cell_type": "code",
   "execution_count": 17,
   "metadata": {},
   "outputs": [],
   "source": [
    "func = filter_by_keys(t, ['z'])"
   ]
  },
  {
   "cell_type": "code",
   "execution_count": 18,
   "metadata": {},
   "outputs": [
    {
     "data": {
      "text/plain": [
       "[('z', 1)]"
      ]
     },
     "execution_count": 18,
     "metadata": {},
     "output_type": "execute_result"
    }
   ],
   "source": [
    "list(filter(func, t))"
   ]
  },
  {
   "cell_type": "code",
   "execution_count": 162,
   "metadata": {},
   "outputs": [],
   "source": [
    "TASK_WORD_COUNT = 'word_count'\n",
    "TASK_INVERTED_INDEX = 'inverted_index'\n",
    "\n",
    "def create_mapper_data(path, task = TASK_WORD_COUNT):\n",
    "    \n",
    "    if not os.path.isfile(path) and task == TASK_WORD_COUNT:\n",
    "        print('The provided path is not a file', 'critical')\n",
    "        return -1\n",
    "    elif not os.path.isdir(path) and task == TASK_INVERTED_INDEX:\n",
    "        print('The provided path is not a directory', 'critical')\n",
    "        return -1\n",
    "    else:\n",
    "        tasks = []\n",
    "        files = [path] if task == TASK_WORD_COUNT else [ f'{path}/{file_name}' for file_name in os.listdir(path)]\n",
    "        task_count = 0\n",
    "        for file in files:\n",
    "            with open(file, 'r') as f:\n",
    "                not_done = True\n",
    "                while not_done:\n",
    "                    line = f.readlines(50)\n",
    "                    print('---------')\n",
    "                    if len(line) > 0:\n",
    "                       \n",
    "                        with open(f'{mapper_tasks_path}task{task_count}', 'wb') as task_file:\n",
    "                            print((file,line))\n",
    "                            pickle.dump((file, line), task_file)\n",
    "                        task_count +=1\n",
    "                    else:\n",
    "                        not_done = False\n",
    "        \n",
    "        return task_count"
   ]
  },
  {
   "cell_type": "code",
   "execution_count": 163,
   "metadata": {},
   "outputs": [
    {
     "name": "stdout",
     "output_type": "stream",
     "text": [
      "---------\n",
      "('dummy/dummy.txt', ['this this\\n', 'hello hello\\n', 'good good\\n', 'this this this\\n', 'what is this\\n'])\n",
      "---------\n",
      "('dummy/dummy.txt', ['this is this\\n', 'this is this'])\n",
      "---------\n",
      "---------\n",
      "('dummy/dummy2.txt', ['cool cool\\n', 'cool cool\\n', 'cool cool\\n', 'cool cool\\n', 'cool cool\\n', 'cool cool\\n'])\n",
      "---------\n",
      "('dummy/dummy2.txt', ['cool cool\\n', 'cool cool\\n'])\n",
      "---------\n"
     ]
    }
   ],
   "source": [
    "t = create_mapper_data(\"dummy\", 'inverted_index')"
   ]
  },
  {
   "cell_type": "code",
   "execution_count": 164,
   "metadata": {},
   "outputs": [],
   "source": [
    "def read_mapper_data(path, total_tasks):\n",
    "    \n",
    "    for i in range(total_tasks):\n",
    "        \n",
    "        with open(f'{mapper_tasks_path}task{i}', 'rb') as task_file:\n",
    "            current_task = pickle.load(task_file)\n",
    "            print(i,current_task)\n",
    "    \n",
    "    "
   ]
  },
  {
   "cell_type": "code",
   "execution_count": 165,
   "metadata": {},
   "outputs": [
    {
     "name": "stdout",
     "output_type": "stream",
     "text": [
      "0 ('dummy/dummy.txt', ['this this\\n', 'hello hello\\n', 'good good\\n', 'this this this\\n', 'what is this\\n'])\n",
      "1 ('dummy/dummy.txt', ['this is this\\n', 'this is this'])\n",
      "2 ('dummy/dummy2.txt', ['cool cool\\n', 'cool cool\\n', 'cool cool\\n', 'cool cool\\n', 'cool cool\\n', 'cool cool\\n'])\n",
      "3 ('dummy/dummy2.txt', ['cool cool\\n', 'cool cool\\n'])\n"
     ]
    }
   ],
   "source": [
    "read_mapper_data(\"dummy\", t)"
   ]
  },
  {
   "cell_type": "code",
   "execution_count": 166,
   "metadata": {},
   "outputs": [
    {
     "data": {
      "text/plain": [
       "True"
      ]
     },
     "execution_count": 166,
     "metadata": {},
     "output_type": "execute_result"
    }
   ],
   "source": [
    "os.path.isfile('tasks/mapper/task0')"
   ]
  },
  {
   "cell_type": "code",
   "execution_count": 167,
   "metadata": {},
   "outputs": [
    {
     "data": {
      "text/plain": [
       "'G:\\\\Git\\\\map-reduce\\\\rpc\\\\worker_servers'"
      ]
     },
     "execution_count": 167,
     "metadata": {},
     "output_type": "execute_result"
    }
   ],
   "source": [
    "os.getcwd()"
   ]
  },
  {
   "cell_type": "code",
   "execution_count": 180,
   "metadata": {},
   "outputs": [],
   "source": [
    " t = [('cool', 'worker_servers/dummy/dummy2.txt'), ('cool', 'worker_servers/dummy/dummy2.txt'), ('cool', 'worker_servers/dummy/dummy2.txt'), ('cool', 'worker_servers/dummy/dummy2.txt'), ('cool', 'worker_servers/dummy/dummy2.txt'), ('cool', 'worker_servers/dummy/dummy2.txt'), ('cool', 'worker_servers/dummy/dummy2.txt'), ('cool', 'worker_servers/dummy/dummy2.txt'), ('cool', 'worker_servers/dummy/dummy2.txt'), ('cool', 'worker_servers/dummy/dummy2.txt'), ('cool', 'worker_servers/dummy/dummy2.txt'), ('cool', 'worker_servers/dummy/dummy2.txt'), ('cool', 'worker_servers/dummy/dummy2.txt'), ('cool', 'worker_servers/dummy/dummy2.txt'), ('cool', 'worker_servers/dummy/dummy2.txt'), ('cool', 'worker_servers/dummy/dummy2.txt'), ('good', 'worker_servers/dummy/dummy.txt'), ('good', 'worker_servers/dummy/dummy.txt'), ('hello', 'worker_servers/dummy/dummy.txt'), ('hello', 'worker_servers/dummy/dummy.txt'), ('is', 'worker_servers/dummy/dummy.txt'), ('is', 'worker_servers/dummy/dummy.txt'), ('is', 'worker_servers/dummy/dummy.txt'), ('this', 'worker_servers/dummy/dummy.txt'), ('this', 'worker_servers/dummy/dummy.txt'), ('this', 'worker_servers/dummy/dummy.txt'), ('this', 'worker_servers/dummy/dummy.txt'), ('this', 'worker_servers/dummy/dummy.txt'), ('this', 'worker_servers/dummy/dummy.txt'), ('this', 'worker_servers/dummy/dummy.txt'), ('this', 'worker_servers/dummy/dummy.txt'), ('this', 'worker_servers/dummy/dummy.txt'), ('this', 'worker_servers/dummy/dummy.txt'), ('what', 'worker_servers/dummy/dummy.txt')]"
   ]
  },
  {
   "cell_type": "code",
   "execution_count": 181,
   "metadata": {},
   "outputs": [],
   "source": [
    "unique_keys = {'hello', 'cool', 'is', 'this', 'what', 'good'}"
   ]
  },
  {
   "cell_type": "code",
   "execution_count": 191,
   "metadata": {},
   "outputs": [
    {
     "name": "stdout",
     "output_type": "stream",
     "text": [
      "--------------------------\n",
      "[[('hello', 'worker_servers/dummy/dummy.txt'), ('hello', 'worker_servers/dummy/dummy.txt')]]\n",
      "--------------------------\n",
      "--------------------------\n",
      "[[('what', 'worker_servers/dummy/dummy.txt')]]\n",
      "--------------------------\n",
      "--------------------------\n",
      "[[('cool', 'worker_servers/dummy/dummy2.txt'), ('cool', 'worker_servers/dummy/dummy2.txt'), ('cool', 'worker_servers/dummy/dummy2.txt'), ('cool', 'worker_servers/dummy/dummy2.txt'), ('cool', 'worker_servers/dummy/dummy2.txt'), ('cool', 'worker_servers/dummy/dummy2.txt'), ('cool', 'worker_servers/dummy/dummy2.txt'), ('cool', 'worker_servers/dummy/dummy2.txt'), ('cool', 'worker_servers/dummy/dummy2.txt'), ('cool', 'worker_servers/dummy/dummy2.txt'), ('cool', 'worker_servers/dummy/dummy2.txt'), ('cool', 'worker_servers/dummy/dummy2.txt'), ('cool', 'worker_servers/dummy/dummy2.txt'), ('cool', 'worker_servers/dummy/dummy2.txt'), ('cool', 'worker_servers/dummy/dummy2.txt'), ('cool', 'worker_servers/dummy/dummy2.txt')]]\n",
      "--------------------------\n",
      "--------------------------\n",
      "[[('this', 'worker_servers/dummy/dummy.txt'), ('this', 'worker_servers/dummy/dummy.txt'), ('this', 'worker_servers/dummy/dummy.txt'), ('this', 'worker_servers/dummy/dummy.txt'), ('this', 'worker_servers/dummy/dummy.txt'), ('this', 'worker_servers/dummy/dummy.txt'), ('this', 'worker_servers/dummy/dummy.txt'), ('this', 'worker_servers/dummy/dummy.txt'), ('this', 'worker_servers/dummy/dummy.txt'), ('this', 'worker_servers/dummy/dummy.txt')]]\n",
      "--------------------------\n",
      "--------------------------\n",
      "[[('good', 'worker_servers/dummy/dummy.txt'), ('good', 'worker_servers/dummy/dummy.txt')]]\n",
      "--------------------------\n",
      "--------------------------\n",
      "[[('is', 'worker_servers/dummy/dummy.txt'), ('is', 'worker_servers/dummy/dummy.txt'), ('is', 'worker_servers/dummy/dummy.txt')]]\n",
      "--------------------------\n"
     ]
    }
   ],
   "source": [
    "for key in unique_keys:\n",
    "    my_dict = []\n",
    "    key_wise = []\n",
    "    for item in t:\n",
    "        if item[0] == key:\n",
    "            key_wise.append((key, item[1]))\n",
    "    \n",
    "    my_dict.append(key_wise)\n",
    "    print('--------------------------')\n",
    "    print(my_dict)    \n",
    "    print('--------------------------')"
   ]
  },
  {
   "cell_type": "code",
   "execution_count": 184,
   "metadata": {},
   "outputs": [],
   "source": [
    "def filter_by_keys(tup, key_sequence):\n",
    "    def seq_filter(tup):\n",
    "        if tup[0] in key_sequence:\n",
    "            return True\n",
    "        else:\n",
    "            return False\n",
    "    return seq_filter"
   ]
  },
  {
   "cell_type": "code",
   "execution_count": 176,
   "metadata": {},
   "outputs": [
    {
     "name": "stdout",
     "output_type": "stream",
     "text": [
      "----------------\n",
      "[('hello', 'worker_servers/dummy/dummy.txt'), ('hello', 'worker_servers/dummy/dummy.txt')]\n",
      "----------------\n",
      "----------------\n",
      "[('what', 'worker_servers/dummy/dummy.txt')]\n",
      "----------------\n",
      "----------------\n",
      "[('cool', 'worker_servers/dummy/dummy2.txt'), ('cool', 'worker_servers/dummy/dummy2.txt'), ('cool', 'worker_servers/dummy/dummy2.txt'), ('cool', 'worker_servers/dummy/dummy2.txt'), ('cool', 'worker_servers/dummy/dummy2.txt'), ('cool', 'worker_servers/dummy/dummy2.txt'), ('cool', 'worker_servers/dummy/dummy2.txt'), ('cool', 'worker_servers/dummy/dummy2.txt'), ('cool', 'worker_servers/dummy/dummy2.txt'), ('cool', 'worker_servers/dummy/dummy2.txt'), ('cool', 'worker_servers/dummy/dummy2.txt'), ('cool', 'worker_servers/dummy/dummy2.txt'), ('cool', 'worker_servers/dummy/dummy2.txt'), ('cool', 'worker_servers/dummy/dummy2.txt'), ('cool', 'worker_servers/dummy/dummy2.txt'), ('cool', 'worker_servers/dummy/dummy2.txt')]\n",
      "----------------\n",
      "----------------\n",
      "[('is', 'worker_servers/dummy/dummy.txt'), ('is', 'worker_servers/dummy/dummy.txt'), ('is', 'worker_servers/dummy/dummy.txt'), ('this', 'worker_servers/dummy/dummy.txt'), ('this', 'worker_servers/dummy/dummy.txt'), ('this', 'worker_servers/dummy/dummy.txt'), ('this', 'worker_servers/dummy/dummy.txt'), ('this', 'worker_servers/dummy/dummy.txt'), ('this', 'worker_servers/dummy/dummy.txt'), ('this', 'worker_servers/dummy/dummy.txt'), ('this', 'worker_servers/dummy/dummy.txt'), ('this', 'worker_servers/dummy/dummy.txt'), ('this', 'worker_servers/dummy/dummy.txt')]\n",
      "----------------\n",
      "----------------\n",
      "[('good', 'worker_servers/dummy/dummy.txt'), ('good', 'worker_servers/dummy/dummy.txt')]\n",
      "----------------\n",
      "----------------\n",
      "[('is', 'worker_servers/dummy/dummy.txt'), ('is', 'worker_servers/dummy/dummy.txt'), ('is', 'worker_servers/dummy/dummy.txt')]\n",
      "----------------\n"
     ]
    }
   ],
   "source": [
    "for key in unique_keys:\n",
    "        func = filter_by_keys(t, key)\n",
    "        data_for_one_key = list(filter(func, t))\n",
    "        print('----------------')\n",
    "        print(data_for_one_key)\n",
    "        print('----------------')"
   ]
  },
  {
   "cell_type": "code",
   "execution_count": null,
   "metadata": {},
   "outputs": [],
   "source": []
  }
 ],
 "metadata": {
  "kernelspec": {
   "display_name": "Python 3",
   "language": "python",
   "name": "python3"
  },
  "language_info": {
   "codemirror_mode": {
    "name": "ipython",
    "version": 3
   },
   "file_extension": ".py",
   "mimetype": "text/x-python",
   "name": "python",
   "nbconvert_exporter": "python",
   "pygments_lexer": "ipython3",
   "version": "3.6.7"
  }
 },
 "nbformat": 4,
 "nbformat_minor": 2
}
